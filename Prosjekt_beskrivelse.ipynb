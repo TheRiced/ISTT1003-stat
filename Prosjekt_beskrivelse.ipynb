{
 "cells": [
  {
   "cell_type": "markdown",
   "metadata": {},
   "source": [
    "# Tellende prosjekt i ISTx1003 - 2025 HEI\n",
    "\n",
    "I prosjektdelen av ISTx1003 Statistikk, Statistisk læring og data science, har vi fokus på tre hovedtemaer: \n",
    "regresjon, klassifikasjon og klyngeanalyse. \n",
    "\n",
    "Dette er oppgaveteksten til den tellende prosjektoppgaven, der besvarelsen teller 30% av karakteren i emnet.  \n",
    "\n",
    "Veiledning av prosjektoppgaven annonseres på den eksterne kurssiden:  https://wiki.math.ntnu.no/istx100y/2025h/1003\n",
    "\n",
    "Det må være 3-6 studenter på hver gruppe, og alle studenter må være oppmeldt i den samme emnekoden (det vil si: en av ISTA1003, ISTG1003, ISTT1003). \n",
    "\n",
    "Informasjon om Prosjektmodulen finnes i Blackboard, og alt kursmaterialt er på den eksterne kurssiden: https://wiki.math.ntnu.no/istx100y/2025h/1003\n",
    "\n",
    "Oppgaven skal utføres i Python, ved hjelp av Jupyter-notatbok-versjonen av denne filen som du nå leser. Notatboken er lastet opp på Jupyterhubben, men kan også finnes på den eksterne kurssiden: https://wiki.math.ntnu.no/istx100y/2025h/1003\n",
    "\n",
    "Det er meningen at dere skal kjøre notatboken på Jupyterhubben vår https://s.ntnu.no/isthub, eller på deres egen installasjon.\n",
    "\n",
    "Antall spørsmålspunkter per oppgave er angitt ved hver oppgave (totalt 40 poeng). Karakteren settes med prosentvurderingsmetoden hvor poeng blir konvertert i en prosentandel (ikke-heltall prosent blir avrundet): https://innsida.ntnu.no/wiki/-/wiki/Norsk/Prosentvurderingsmetoden\n",
    "\n",
    "Dere skal løse oppgavene med hjelp av notatboken. **!!Viktig!!**: Alle svar må gis i et separat svarark (en Word-fil, https://www.math.ntnu.no/emner/IST100x/ISTx1003/Svarark_1003.odt) som dere eksporterer og leverer som pdf. Dere kan skrive tekst eller kopiere bilder av resultatene inn i filen.\n",
    "\n",
    "**Prosjektet leveres i Inspera, se informasjon om dette på Blackboard.**\n",
    "\n",
    "\n",
    "**Frist for innlevering av prosjektet til Inspera er mandag 17.november kl 12.00.**\n",
    "\n",
    "Kontakt eksamenskontoret ved problemer. Det kan **ikke** gis utsettelse på innleveringsfristen."
   ]
  },
  {
   "cell_type": "markdown",
   "metadata": {},
   "source": []
  }
 ],
 "metadata": {
  "kernelspec": {
   "display_name": "Python 3 (ipykernel)",
   "language": "python",
   "name": "python3"
  },
  "language_info": {
   "codemirror_mode": {
    "name": "ipython",
    "version": 3
   },
   "file_extension": ".py",
   "mimetype": "text/x-python",
   "name": "python",
   "nbconvert_exporter": "python",
   "pygments_lexer": "ipython3",
   "version": "3.10.12"
  }
 },
 "nbformat": 4,
 "nbformat_minor": 4
}
