{
 "cells": [
  {
   "cell_type": "markdown",
   "metadata": {},
   "source": [
    "# Oppgave 3: Klyngeanalyse (10 poeng)\n",
    "\n",
    "\n",
    "### Oppgaven inneholder følgende elementer:\n",
    "* Last inn et datasett og undersøk innholdet.  \n",
    "* Bruk $K$-gjennomsnitt-klyngeanalyse får å finne klynger i bilder av håndskrevne tall (0-9). \n",
    "* Diskuter resultatene av klyngeanalysen.\n",
    "* Diskutere $K$-gjennomsnitt-klyngeanalyse vs. hierarkisk klynganalyse.\n",
    "* Kommenter resultatene fra en hierarkisk klyngeanalyse.\n",
    "\n",
    "## Finn klynger (struktur) i bildene av håndskrevne tall\n",
    "\n",
    "Et stort felt innen maskinlæring er bildegjenkjenning (image recognition) og klassifisering. Dette innebærer at vi laster inn et bilde i en statistisk algoritme og får tilbake en etikett som beskriver hva bildet forestiller – for eksempel en person, et tall eller en sykdom.\n",
    "\n",
    "I dette eksempelet skal vi jobbe med data fra *mnist* (Modified National Institure of Standards and Technology) databasen, som for eksempel finnes her: https://www.kaggle.com/c/digit-recognizer. Datasettet inneholder digitaliserte bilder av håndskrevne sifre (0–9), og brukes ofte til å trene maskinlæringsalgoritmer for klassifikasjon. Det betyr at man ønsker å forutsi hvilket tall et gitt bilde viser, slik at datamaskinen kan lese tall – for eksempel postnummeret på et brev.\n",
    "\n",
    "Her bruker vi datasettet til noe annet: Vi vil undersøke om vi finner struktur i bildene ved bruk av en klyngeanalyse. Vi vil jo kanskje håpe at de samme sifrene kommer til å bli gruppert i en klynge fordi de inneholder lignende mønstre. Her skal vi se om det er sant. \n",
    "\n",
    "Vi har lært om to populære algoritmer som brukes til å lage klynger av objekter: \n",
    "\n",
    "   * $K$-gjennomsnitt ($K$-means) algoritmen: Målet med denne algoritmen er å plassere de individuelle observasjonene i $K$ grupper (kalt klynger) basert på observasjonenes avstand til grupper av andre observasjoner. Algoritmen kjøres iterativt, og stoppes når alle observasjoner som ligner hverandre er plassert i en gruppe (klynge) sammen.\n",
    "   * Hierarkisk klyngeanalyse (se nedenfor).\n",
    "  \n"
   ]
  },
  {
   "cell_type": "code",
   "execution_count": 1,
   "metadata": {},
   "outputs": [],
   "source": [
    "# importere pakker og funksjoner vi trenger i oppgave 3\n",
    "import numpy as np\n",
    "\n",
    "import pandas as pd\n",
    "\n",
    "import matplotlib.pyplot as plt\n",
    "\n",
    "from sklearn.cluster import KMeans  # k-gjennomsnitt klyngeanalyse\n",
    "\n",
    "from scipy.cluster.hierarchy import dendrogram, linkage\n",
    "\n",
    "from matplotlib.offsetbox import OffsetImage, AnnotationBbox"
   ]
  },
  {
   "cell_type": "markdown",
   "metadata": {},
   "source": [
    "## Les inn datasettet\n",
    "\n",
    "Vi begynner med å lese inn datasettet som inneholder digitaliserte, håndskrevne sifre. Hvert siffer er plassert i en firkant på \n",
    "$28\\cdot 28$ = 784 piksler, og hvert bilde kan dermed representeres som en vektor ned lengde 784.\n"
   ]
  },
  {
   "cell_type": "code",
   "execution_count": 2,
   "metadata": {},
   "outputs": [
    {
     "data": {
      "text/html": [
       "<div>\n",
       "<style scoped>\n",
       "    .dataframe tbody tr th:only-of-type {\n",
       "        vertical-align: middle;\n",
       "    }\n",
       "\n",
       "    .dataframe tbody tr th {\n",
       "        vertical-align: top;\n",
       "    }\n",
       "\n",
       "    .dataframe thead th {\n",
       "        text-align: right;\n",
       "    }\n",
       "</style>\n",
       "<table border=\"1\" class=\"dataframe\">\n",
       "  <thead>\n",
       "    <tr style=\"text-align: right;\">\n",
       "      <th></th>\n",
       "      <th>V1</th>\n",
       "      <th>V2</th>\n",
       "      <th>V3</th>\n",
       "      <th>V4</th>\n",
       "      <th>V5</th>\n",
       "      <th>V6</th>\n",
       "      <th>V7</th>\n",
       "      <th>V8</th>\n",
       "      <th>V9</th>\n",
       "      <th>V10</th>\n",
       "      <th>...</th>\n",
       "      <th>V775</th>\n",
       "      <th>V776</th>\n",
       "      <th>V777</th>\n",
       "      <th>V778</th>\n",
       "      <th>V779</th>\n",
       "      <th>V780</th>\n",
       "      <th>V781</th>\n",
       "      <th>V782</th>\n",
       "      <th>V783</th>\n",
       "      <th>V784</th>\n",
       "    </tr>\n",
       "  </thead>\n",
       "  <tbody>\n",
       "    <tr>\n",
       "      <th>1</th>\n",
       "      <td>0</td>\n",
       "      <td>0</td>\n",
       "      <td>0</td>\n",
       "      <td>0</td>\n",
       "      <td>0</td>\n",
       "      <td>0</td>\n",
       "      <td>0</td>\n",
       "      <td>0</td>\n",
       "      <td>0</td>\n",
       "      <td>0</td>\n",
       "      <td>...</td>\n",
       "      <td>0</td>\n",
       "      <td>0</td>\n",
       "      <td>0</td>\n",
       "      <td>0</td>\n",
       "      <td>0</td>\n",
       "      <td>0</td>\n",
       "      <td>0</td>\n",
       "      <td>0</td>\n",
       "      <td>0</td>\n",
       "      <td>0</td>\n",
       "    </tr>\n",
       "    <tr>\n",
       "      <th>2</th>\n",
       "      <td>0</td>\n",
       "      <td>0</td>\n",
       "      <td>0</td>\n",
       "      <td>0</td>\n",
       "      <td>0</td>\n",
       "      <td>0</td>\n",
       "      <td>0</td>\n",
       "      <td>0</td>\n",
       "      <td>0</td>\n",
       "      <td>0</td>\n",
       "      <td>...</td>\n",
       "      <td>0</td>\n",
       "      <td>0</td>\n",
       "      <td>0</td>\n",
       "      <td>0</td>\n",
       "      <td>0</td>\n",
       "      <td>0</td>\n",
       "      <td>0</td>\n",
       "      <td>0</td>\n",
       "      <td>0</td>\n",
       "      <td>0</td>\n",
       "    </tr>\n",
       "    <tr>\n",
       "      <th>3</th>\n",
       "      <td>0</td>\n",
       "      <td>0</td>\n",
       "      <td>0</td>\n",
       "      <td>0</td>\n",
       "      <td>0</td>\n",
       "      <td>0</td>\n",
       "      <td>0</td>\n",
       "      <td>0</td>\n",
       "      <td>0</td>\n",
       "      <td>0</td>\n",
       "      <td>...</td>\n",
       "      <td>0</td>\n",
       "      <td>0</td>\n",
       "      <td>0</td>\n",
       "      <td>0</td>\n",
       "      <td>0</td>\n",
       "      <td>0</td>\n",
       "      <td>0</td>\n",
       "      <td>0</td>\n",
       "      <td>0</td>\n",
       "      <td>0</td>\n",
       "    </tr>\n",
       "    <tr>\n",
       "      <th>4</th>\n",
       "      <td>0</td>\n",
       "      <td>0</td>\n",
       "      <td>0</td>\n",
       "      <td>0</td>\n",
       "      <td>0</td>\n",
       "      <td>0</td>\n",
       "      <td>0</td>\n",
       "      <td>0</td>\n",
       "      <td>0</td>\n",
       "      <td>0</td>\n",
       "      <td>...</td>\n",
       "      <td>0</td>\n",
       "      <td>0</td>\n",
       "      <td>0</td>\n",
       "      <td>0</td>\n",
       "      <td>0</td>\n",
       "      <td>0</td>\n",
       "      <td>0</td>\n",
       "      <td>0</td>\n",
       "      <td>0</td>\n",
       "      <td>0</td>\n",
       "    </tr>\n",
       "    <tr>\n",
       "      <th>5</th>\n",
       "      <td>0</td>\n",
       "      <td>0</td>\n",
       "      <td>0</td>\n",
       "      <td>0</td>\n",
       "      <td>0</td>\n",
       "      <td>0</td>\n",
       "      <td>0</td>\n",
       "      <td>0</td>\n",
       "      <td>0</td>\n",
       "      <td>0</td>\n",
       "      <td>...</td>\n",
       "      <td>0</td>\n",
       "      <td>0</td>\n",
       "      <td>0</td>\n",
       "      <td>0</td>\n",
       "      <td>0</td>\n",
       "      <td>0</td>\n",
       "      <td>0</td>\n",
       "      <td>0</td>\n",
       "      <td>0</td>\n",
       "      <td>0</td>\n",
       "    </tr>\n",
       "  </tbody>\n",
       "</table>\n",
       "<p>5 rows × 784 columns</p>\n",
       "</div>"
      ],
      "text/plain": [
       "   V1  V2  V3  V4  V5  V6  V7  V8  V9  V10  ...  V775  V776  V777  V778  V779  \\\n",
       "1   0   0   0   0   0   0   0   0   0    0  ...     0     0     0     0     0   \n",
       "2   0   0   0   0   0   0   0   0   0    0  ...     0     0     0     0     0   \n",
       "3   0   0   0   0   0   0   0   0   0    0  ...     0     0     0     0     0   \n",
       "4   0   0   0   0   0   0   0   0   0    0  ...     0     0     0     0     0   \n",
       "5   0   0   0   0   0   0   0   0   0    0  ...     0     0     0     0     0   \n",
       "\n",
       "   V780  V781  V782  V783  V784  \n",
       "1     0     0     0     0     0  \n",
       "2     0     0     0     0     0  \n",
       "3     0     0     0     0     0  \n",
       "4     0     0     0     0     0  \n",
       "5     0     0     0     0     0  \n",
       "\n",
       "[5 rows x 784 columns]"
      ]
     },
     "execution_count": 2,
     "metadata": {},
     "output_type": "execute_result"
    }
   ],
   "source": [
    "## Les inn datasettet og se på de første 5 eksempler\n",
    "\n",
    "images = pd.read_csv('https://www.math.ntnu.no/emner/IST100x/ISTx1003/h2021/images.csv', sep = \",\", index_col = 0)\n",
    "\n",
    "images.head()"
   ]
  },
  {
   "cell_type": "markdown",
   "metadata": {},
   "source": [
    "Å skrive ut headeren gir ikke noe spesielt interessant. Pikslene i disse bildene er gitt som tall mellom 0 og 255 (gråskala), der 0 representerer helt svart og 255 helt hvitt. Pikslene som er vist ovenfor, tilsvarer det øverste venstre hjørnet av bildet og det nedre høyre hjørnet, som vi forventer er tomt (svart, altså 0).\n",
    "\n",
    "Vi ønsker å standardisere disse tallene slik at de ligger mellom 0.0 og 1.0 før analysen utføres.\n"
   ]
  },
  {
   "cell_type": "code",
   "execution_count": 3,
   "metadata": {},
   "outputs": [],
   "source": [
    "## Standardisering av pikselne\n",
    "\n",
    "images = images/255"
   ]
  },
  {
   "cell_type": "markdown",
   "metadata": {},
   "source": [
    "Utskrift av tilleggsinformasjon om strukturen og objektene til datasettet gir:\n"
   ]
  },
  {
   "cell_type": "code",
   "execution_count": 4,
   "metadata": {},
   "outputs": [
    {
     "name": "stdout",
     "output_type": "stream",
     "text": [
      "Bildet har type <class 'pandas.core.frame.DataFrame'>\n",
      "Formatet til tabellen er (6000, 784)\n",
      "Gjennomsnittsfarge i bilde er 0.16487595038015207\n",
      "Dataformatet til en piksel er <class 'numpy.float64'>\n"
     ]
    }
   ],
   "source": [
    "# hvilken type er bildet vårt\n",
    "print(\"Bildet har type\", type(images))\n",
    "\n",
    "# bildet er en numpytabell. Hva er formatet?\n",
    "print(\"Formatet til tabellen er\", images.shape)\n",
    "\n",
    "#Average colour in image 50\n",
    "print(\"Gjennomsnittsfarge i bilde er\", images.iloc[49].mean())\n",
    "\n",
    "print('Dataformatet til en piksel er', type(images.iloc[1,1]))\n"
   ]
  },
  {
   "cell_type": "markdown",
   "metadata": {},
   "source": [
    "Og så skal vi se hvordan de første 10 bildene i datasettet ser ut: "
   ]
  },
  {
   "cell_type": "code",
   "execution_count": null,
   "metadata": {},
   "outputs": [
    {
     "data": {
      "image/png": "[encoded data removed]",
      "text/plain": [
       "<Figure size 1000x1000 with 10 Axes>"
      ]
     },
     "metadata": {},
     "output_type": "display_data"
    }
   ],
   "source": [
    "features = np.array(images)\n",
    "features = features.reshape(features.shape[0], 28,28)\n",
    "\n",
    "fig = plt.figure(figsize=(10,10))\n",
    "\n",
    "for i in range(10):\n",
    "    fig.add_subplot(1, 10, i+1)\n",
    "    \n",
    "    plt.imshow(features[i], cmap = 'gray')\n",
    "    \n",
    "    plt.xticks([])\n",
    "    plt.yticks([])\n",
    "    plt.tight_layout()\n",
    "    "
   ]
  },
  {
   "cell_type": "markdown",
   "metadata": {},
   "source": [
    "Det er ganske enkelt for oss mennesker å gjenkjenne disse individuelle sifrene – selv om håndskriften kan være vanskelig å tyde. Nå vil vi se hvor godt K-gjennomsnittsalgoritmen klarer å finne struktur i disse dataene.\n",
    "\n",
    "### Problem 3a) (2P)\n",
    "\n",
    "  (i) Hvor mange bilder har vi i datasettet?  \n",
    "\n",
    "  (ii) Hvilket siffer ligner det 50. bildet i datasettet vårt på? Lag et plott som viser dette sifferet. (Husk at Python begynner nummereringen med 0, og derfor refereres det 50. bildet til [49])\n",
    "\n",
    " \n",
    "###   <font color='red'>Løsning:</font> Svar på svararket."
   ]
  },
  {
   "cell_type": "code",
   "execution_count": null,
   "metadata": {},
   "outputs": [
    {
     "name": "stdout",
     "output_type": "stream",
     "text": [
      "Oppgave 3a)i): Hvor mange bilder er det i datasettet\n",
      "Hvert bilde har 28*28 = 784 piksler, som tilsvarer en rad i datasettet\n",
      "Vi må altså finne antall rader i datasettet\n",
      "Antall bilder er derfor:  6000\n"
     ]
    }
   ],
   "source": [
    "print(\"Oppgave 3a)i): Hvor mange bilder er det i datasettet\")\n",
    "print(\"Hvert bilde har 28*28 = 784 piksler, som tilsvarer en rad i datasettet\") \n",
    "print(\"Vi må altså finne antall rader i datasettet\")\n",
    "antall_bilder = len(images)\n",
    "\n",
    "print (\"Antall bilder er: \" , antall_bilder)"
   ]
  },
  {
   "cell_type": "code",
   "execution_count": null,
   "metadata": {},
   "outputs": [
    {
     "name": "stdout",
     "output_type": "stream",
     "text": [
      "Oppgave 3a)ii): Bilde nummer 50 i datasett (vi kan bare gjenbruke koden som viser de første 10)\n"
     ]
    },
    {
     "data": {
      "image/png": "[encoded data removed]",
      "text/plain": [
       "<Figure size 400x400 with 1 Axes>"
      ]
     },
     "metadata": {},
     "output_type": "display_data"
    }
   ],
   "source": [
    "print (\"Oppgave 3a)ii): Bilde nummer 50 i datasett (vi kan bare gjenbruke koden som viser de første 10)\")\n",
    "\n",
    "features = np.array(images)\n",
    "features = features.reshape(features.shape[0], 28,28)\n",
    "\n",
    "fig = plt.figure(figsize=(4,4))\n",
    "\n",
    "# for i in range(10): (Bare fjerner denne)\n",
    "# fig.add_subplot(1, 10, i+1) \n",
    "    \n",
    "plt.imshow(features[49], cmap = 'gray') #Endrer fra i til 49 \n",
    "    \n",
    "plt.xticks([])\n",
    "plt.yticks([])\n",
    "plt.tight_layout()"
   ]
  },
  {
   "cell_type": "markdown",
   "metadata": {},
   "source": [
    "## Klyngeanalyse med $K$-gjennomsnitt\n",
    "\n",
    "La oss nå endelig utføre $K$-gjennomsnittalgoritme. Vi må gå gjennom følgende steg:\n",
    "\n",
    "  1. Angi antall klynger du ønsker\n",
    "  2. Initialiser $K$-gjennomsnitt-modellen\n",
    "  3. Tilpass $K$-gjennomsnitt-modellen\n",
    "\n",
    "Vi bruker 𝐾-gjennomsnittsfunksjonen med $K=10$ (se kode under), fordi vi håper jo å finne igjen de 10 sifferene (0-9) som klyngene.\n",
    "\n",
    "I tillegg kan vi få tilgang til sentroidene i klyngene våre i tabellen `means.cluster_centers_`, og plotte dem for å se hvordan algoritmen mener det typiske bildet i hver av de 10 gruppene ser ut.\n",
    "\n",
    "\n",
    "Hint: Her kan du lese litt mer om KMeans-funksjonen: https://scikit-learn.org/stable/modules/generated/sklearn.cluster.KMeans.html#sklearn.cluster.KMeans"
   ]
  },
  {
   "cell_type": "code",
   "execution_count": 35,
   "metadata": {},
   "outputs": [],
   "source": [
    "# kodechunk kmeans\n",
    "\n",
    "# Steg 1: Antall klynger\n",
    "antall_klynger = 10\n",
    "\n",
    "# Steg 2: Initaliser k-means algoritmen\n",
    "kmeans = KMeans(n_clusters = antall_klynger, random_state = 1,n_init=10)\n",
    "\n",
    "# Steg 3: Tilpass modellen\n",
    "kmeans.fit(images)\n",
    "\n",
    "# sentroidene (a)\n",
    "sentroider = kmeans.cluster_centers_"
   ]
  },
  {
   "cell_type": "markdown",
   "metadata": {},
   "source": [
    "### Problem 3b) (3P)\n",
    "\n",
    "\n",
    " (i) Tegn sentroidene av de 10 klyngene fra $K$-gjennomsnitt modellen. Tilpass koden oppover (ovenfor problem 3a).\n",
    " \n",
    " (ii) Synes du at grupperingen i klynger er relevant og nyttig? Forklar. Maks 3 setninger. \n",
    "\n",
    " (iii) Vi har valgt $K=10$ for dette eksempelet fordi vi hadde håpet å finne klynger som representerer de 10 sifferene 0-9. Men generelt er $K$ vilkårlig. Kom opp med en forslåg for hvordan man (generelt, ikke nødvendigvis her) kan best velge $K$. (Se her, for eksempel: https://medium.com/analytics-vidhya/how-to-determine-the-optimal-k-for-k-means-708505d204eb). Beskriv i egne ord med maks 3 setninger! \n",
    " \n",
    "###   <font color='red'>Løsning:</font> Svar på svararket.  (Gjerne også kopier et bilde av koden og resultatet fra jupyter notebooken.)"
   ]
  },
  {
   "cell_type": "markdown",
   "metadata": {},
   "source": [
    "## Hierarkisk klyngeanalyse\n",
    "\n",
    "Vi fortsetter nå med å bruke hierarkisk klyngeanalyse for *mnist* datasettet. Vi gjør *Agglomerative Clustering* ved bruk av `sklearn.cluster` pakken. (Agglomerative Clustering er noe vi har lært om i undervisningen, men se også her hvis du har lyst til å vite mer: https://en.wikipedia.org/wiki/Hierarchical_clustering)\n",
    "\n",
    " \n",
    "Siden hierarkisk gruppering er tregt for store datasett, spesielt for grafiske data, ble et tilfeldig utvalg på 20 bilder valgt fra det originale datasettet for å illustrere bruken av denne modellen.\n",
    "\n",
    "\n",
    "### Problem 3c (3P):\n",
    " \n",
    "(i) Vurder dendrogrammet nedenfor. Synes du at den hierarkiske grupperingsalgoritmen har laget gode og meningsfulle grupper av bildene?\n",
    "\n",
    "(ii) I koden under har vi brukt gjennomsnittskobling  (`method = 'average'`). Hvordan fungerer gjennomsnittskobling? Maks 2 setninger!\n",
    "\n",
    "(iii) Velg en annen måte å koble klyngene sammen på (vi har lært om dette i undervisningen) og lag et nytt dendrogram ved å tilpasse koden nedenfor. Kommenter resultatene: Ser det bedre eller verre ut?\n",
    "\n",
    "\n",
    "###   <font color='red'>Løsning:</font> Svar på svararket.  (Gjerne også kopier et bilde av koden og resultatet fra jupyter notebooken.)"
   ]
  },
  {
   "cell_type": "code",
   "execution_count": 36,
   "metadata": {},
   "outputs": [
    {
     "data": {
      "image/png": "[encoded data removed]",
      "text/plain": [
       "<Figure size 1000x1000 with 1 Axes>"
      ]
     },
     "metadata": {},
     "output_type": "display_data"
    }
   ],
   "source": [
    "##Cluster\n",
    "\n",
    "n_image = 20\n",
    "\n",
    "sample = images.sample(n = n_image, random_state = 1)\n",
    "\n",
    "sampleimg = np.array(sample).reshape(sample.shape[0], 28,28)\n",
    "\n",
    "plt.figure(figsize=(10,10))\n",
    "ax = plt.subplot()\n",
    "\n",
    "# Bruk gjennomsnittskobling (method='average')\n",
    "link = linkage(y = sample, method = 'average', metric = 'euclidean')\n",
    "\n",
    "dendro = dendrogram(link)\n",
    "\n",
    "dcoord = np.array(dendro[\"dcoord\"])\n",
    "icoord = np.array(dendro[\"icoord\"])\n",
    "leaves = np.array(dendro[\"leaves\"])\n",
    "\n",
    "idx = np.argsort(dcoord[:, 2])\n",
    "\n",
    "dcoord = dcoord[idx, :]\n",
    "icoord = icoord[idx, :]\n",
    "\n",
    "idx = np.argsort(link[:, :2].ravel())\n",
    "label_pos = icoord[:, 1:3].ravel()[idx][:n_image]\n",
    "\n",
    "for i in range(n_image):\n",
    "    imagebox = OffsetImage(sampleimg[i], cmap = 'gray', interpolation = \"bilinear\")\n",
    "    ab = AnnotationBbox(imagebox, (label_pos[i], 0),  box_alignment=(0.5, -0.1), \n",
    "                        bboxprops={\"edgecolor\" : \"none\"})\n",
    "    ax.add_artist(ab)\n",
    "\n",
    "plt.title('Dendrogram for the hand-written images')\n",
    "plt.xlabel('Image')\n",
    "plt.ylabel('Distance')\n",
    "plt.show()\n"
   ]
  },
  {
   "cell_type": "markdown",
   "metadata": {},
   "source": [
    "### Problem 3d) (2P)\n",
    "\n",
    " \n",
    "(i) Med tanke på at verken de 10 klyngene funnet med $K$-gjennomsnittsalgoritmen, eller med hierarkisk klyngeanalyse, ser ut til å representere de 10 sifferene 0-9 veldig godt, tror du at klyngeanalyse (som er en ikke-veiledet metode) var en god metode for å bruke her? \n",
    "\n",
    "(ii) Hvilke andre metode vil du anbefale når målet er å klassifisere (predikere) siffer fra et håndskrevet tall?\n",
    "\n",
    "###   <font color='red'>Løsning:</font>  Svar på svararket."
   ]
  },
  {
   "cell_type": "code",
   "execution_count": null,
   "metadata": {},
   "outputs": [],
   "source": []
  },
  {
   "cell_type": "code",
   "execution_count": null,
   "metadata": {},
   "outputs": [],
   "source": []
  }
 ],
 "metadata": {
  "kernelspec": {
   "display_name": "Python 3",
   "language": "python",
   "name": "python3"
  },
  "language_info": {
   "codemirror_mode": {
    "name": "ipython",
    "version": 3
   },
   "file_extension": ".py",
   "mimetype": "text/x-python",
   "name": "python",
   "nbconvert_exporter": "python",
   "pygments_lexer": "ipython3",
   "version": "3.11.9"
  }
 },
 "nbformat": 4,
 "nbformat_minor": 4
}
